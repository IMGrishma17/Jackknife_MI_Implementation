{
 "cells": [
  {
   "cell_type": "code",
   "execution_count": 1,
   "id": "7fc8261b",
   "metadata": {},
   "outputs": [],
   "source": [
    "import numpy as np\n",
    "from sklearn.metrics import mutual_info_score\n",
    "import matplotlib.pyplot as plt\n",
    "from collections import Counter\n",
    "import pandas as pd\n",
    "import seaborn as sns"
   ]
  },
  {
   "cell_type": "code",
   "execution_count": 2,
   "id": "2bc2de17",
   "metadata": {},
   "outputs": [],
   "source": [
    "np.random.seed(42)"
   ]
  },
  {
   "cell_type": "code",
   "execution_count": 3,
   "id": "4ea6a8f1",
   "metadata": {},
   "outputs": [],
   "source": [
    "def mutual_information_multivariate(X, Y):\n",
    "    # Converting rows into strings to represent joint states\n",
    "    X_encoded = [tuple(row) for row in X]\n",
    "    Y_encoded = list(Y)\n",
    "\n",
    "    joint_counts = Counter(zip(X_encoded, Y_encoded))\n",
    "    total = len(X_encoded)\n",
    "\n",
    "    joint_probs = {k: v / total for k, v in joint_counts.items()}\n",
    "    X_counts = Counter(X_encoded)\n",
    "    Y_counts = Counter(Y_encoded)\n",
    "\n",
    "    X_probs = {k: v / total for k, v in X_counts.items()}\n",
    "    Y_probs = {k: v / total for k, v in Y_counts.items()}\n",
    "\n",
    "    mi = 0.0\n",
    "    for (x, y), p_xy in joint_probs.items():\n",
    "        p_x = X_probs[x]\n",
    "        p_y = Y_probs[y]\n",
    "        mi += p_xy * np.log(p_xy / (p_x * p_y))\n",
    "        \n",
    "    return mi / np.log(2)\n"
   ]
  },
  {
   "cell_type": "code",
   "execution_count": 4,
   "id": "bf9c7c89",
   "metadata": {},
   "outputs": [],
   "source": [
    "# Jackknife resampling for mutual information\n",
    "def jackknife_mi(X, Y, mutual_information_multivariate):\n",
    "    n = len(X)\n",
    "    mi_values = []\n",
    "\n",
    "    for i in range(n):\n",
    "        # Removing i-th sample\n",
    "        X_jack = np.delete(X, i, axis=0)  # keeping 2D\n",
    "        Y_jack = np.delete(Y, i, axis=0 if len(Y.shape) > 1 else None)\n",
    "\n",
    "        # Computing MI on the reduced dataset\n",
    "        mi_jack = mutual_information_multivariate(X_jack, Y_jack)\n",
    "        mi_values.append(mi_jack)\n",
    "\n",
    "    mi_jackknife = np.mean(mi_values)\n",
    "    mi_variance = (n - 1) * np.var(mi_values)\n",
    "    \n",
    "    return mi_jackknife, mi_variance"
   ]
  },
  {
   "cell_type": "code",
   "execution_count": null,
   "id": "fda6c5d3",
   "metadata": {},
   "outputs": [
    {
     "name": "stdout",
     "output_type": "stream",
     "text": [
      "Multivariate MI: 2.3074\n",
      "Jackknife MI Estimate: 2.3074, Variance: 0.000205\n"
     ]
    }
   ],
   "source": [
    "# testing on obvious strong depedencies\n",
    "X1 = np.random.randint(0, 5, size=200)\n",
    "X2 = X1.copy()\n",
    "Y_obv = X1 + X2  # Y is fully determined by X1 and X2\n",
    "X_obv = np.column_stack([X1, X2])\n",
    "\n",
    "mi_val_obv = mutual_information_multivariate(X_obv, Y_obv)\n",
    "mi_jk, var_jk = jackknife_mi(X_obv, Y_obv, mutual_information_multivariate)\n",
    "\n",
    "print(f\"Multivariate MI: {mi_val_obv:.4f}\")\n",
    "print(f\"Jackknife MI Estimate: {mi_jk:.4f}, Variance: {var_jk:.6f}\")"
   ]
  },
  {
   "cell_type": "markdown",
   "id": "ec3188ef",
   "metadata": {},
   "source": [
    "MI is high, ≈2.3, which reflects strong dependency (since Y = X1 + X2)."
   ]
  },
  {
   "cell_type": "code",
   "execution_count": null,
   "id": "d9efc524",
   "metadata": {},
   "outputs": [
    {
     "name": "stdout",
     "output_type": "stream",
     "text": [
      "Multivariate MI: 1.7338\n",
      "Jackknife MI Estimate: 1.7338, Variance: 0.000784\n"
     ]
    }
   ],
   "source": [
    "# Generating multivariate dependencies\n",
    "def generate_multivariate_data(n):\n",
    "    X1 = np.random.randint(0, 3, size=n)\n",
    "    X2 = X1 + np.random.randint(0, 2, size=n)  # Dependent feature\n",
    "    Y1 = X1 + X2 + np.random.randint(0, 2, size=n)  # Output depends on both X1 and X2 and some noise\n",
    "    return np.column_stack([X1, X2]), Y1  # Return Y1 as 1D array\n",
    "\n",
    "\n",
    "X, Y = generate_multivariate_data(200)\n",
    "\n",
    "mi_val = mutual_information_multivariate(X, Y)\n",
    "mi_jack, var_jack = jackknife_mi(X, Y, mutual_information_multivariate)\n",
    "\n",
    "print(f\"Multivariate MI: {mi_val:.4f}\")\n",
    "print(f\"Jackknife MI Estimate: {mi_jack:.4f}, Variance: {var_jack:.6f}\")\n"
   ]
  },
  {
   "cell_type": "code",
   "execution_count": 6,
   "id": "141d1327",
   "metadata": {},
   "outputs": [
    {
     "name": "stdout",
     "output_type": "stream",
     "text": [
      "Independent Data MI: 0.4210\n",
      "Jackknife MI Estimate: 0.4233, Variance: 0.006760\n"
     ]
    }
   ],
   "source": [
    "# independent data\n",
    "def generate_independent_data(n):\n",
    "    X1 = np.random.randint(0, 5, size=n)\n",
    "    X2 = np.random.randint(0, 5, size=n)\n",
    "    Y1 = np.random.randint(0, 5, size=n)  # Y is independent of X1 and X2\n",
    "    return np.column_stack([X1, X2]), Y1\n",
    "\n",
    "X_indep, Y_indep = generate_independent_data(200)\n",
    "\n",
    "mi_val_indep = mutual_information_multivariate(X_indep, Y_indep)\n",
    "mi_jack_indep, var_jack_indep = jackknife_mi(X_indep, Y_indep, mutual_information_multivariate)\n",
    "\n",
    "print(f\"Independent Data MI: {mi_val_indep:.4f}\")\n",
    "print(f\"Jackknife MI Estimate: {mi_jack_indep:.4f}, Variance: {var_jack_indep:.6f}\")\n"
   ]
  },
  {
   "cell_type": "markdown",
   "id": "3dffd76b",
   "metadata": {},
   "source": [
    "From above, we got high value of MI for independent variables. Further testing it for different sample size to check if the MI value could be due to the sample size."
   ]
  },
  {
   "cell_type": "code",
   "execution_count": 7,
   "id": "3abe123e",
   "metadata": {},
   "outputs": [
    {
     "name": "stdout",
     "output_type": "stream",
     "text": [
      "n=100   | MI: 0.7573 | Jackknife MI: 0.7636 | Variance: 0.011617\n",
      "n=200   | MI: 0.4238 | Jackknife MI: 0.4259 | Variance: 0.004826\n",
      "n=500   | MI: 0.1467 | Jackknife MI: 0.1471 | Variance: 0.001015\n",
      "n=1000  | MI: 0.0640 | Jackknife MI: 0.0641 | Variance: 0.000201\n",
      "n=2000  | MI: 0.0318 | Jackknife MI: 0.0318 | Variance: 0.000047\n"
     ]
    }
   ],
   "source": [
    "sample_sizes = [100, 200, 500, 1000, 2000]\n",
    "\n",
    "for n in sample_sizes:\n",
    "    X, Y = generate_independent_data(n)\n",
    "    mi = mutual_information_multivariate(X, Y)\n",
    "    mi_jk, var_jk = jackknife_mi(X, Y, mutual_information_multivariate)\n",
    "    print(f\"n={n:<5} | MI: {mi:.4f} | Jackknife MI: {mi_jk:.4f} | Variance: {var_jk:.6f}\")\n"
   ]
  },
  {
   "cell_type": "code",
   "execution_count": 8,
   "id": "f1e3feb7",
   "metadata": {},
   "outputs": [
    {
     "name": "stdout",
     "output_type": "stream",
     "text": [
      "Averaged over 10 trials (n=200): MI = 0.4441, Jackknife MI = 0.4463\n"
     ]
    }
   ],
   "source": [
    "def average_mi_over_trials(n, trials=10):\n",
    "    mi_vals = []\n",
    "    mi_jk_vals = []\n",
    "    for _ in range(trials):\n",
    "        X, Y = generate_independent_data(n)\n",
    "        mi = mutual_information_multivariate(X, Y)\n",
    "        mi_jk, _ = jackknife_mi(X, Y, mutual_information_multivariate)\n",
    "        mi_vals.append(mi)\n",
    "        mi_jk_vals.append(mi_jk)\n",
    "    return np.mean(mi_vals), np.mean(mi_jk_vals)\n",
    "\n",
    "mi_avg, mi_jk_avg = average_mi_over_trials(200)\n",
    "print(f\"Averaged over 10 trials (n=200): MI = {mi_avg:.4f}, Jackknife MI = {mi_jk_avg:.4f}\")\n"
   ]
  },
  {
   "cell_type": "code",
   "execution_count": 9,
   "id": "c5832245",
   "metadata": {},
   "outputs": [
    {
     "data": {
      "image/png": "[encoded data removed]",
      "text/plain": [
       "<Figure size 640x480 with 1 Axes>"
      ]
     },
     "metadata": {},
     "output_type": "display_data"
    }
   ],
   "source": [
    "import matplotlib.pyplot as plt\n",
    "\n",
    "X, Y = generate_independent_data(200)\n",
    "plt.scatter(X[:, 0], Y, alpha=0.6, label='X1 vs Y')\n",
    "plt.scatter(X[:, 1], Y, alpha=0.6, label='X2 vs Y', marker='x')\n",
    "plt.title(\"Independent Check (X1, X2 vs Y)\")\n",
    "plt.legend()\n",
    "plt.xlabel(\"X values\")\n",
    "plt.ylabel(\"Y\")\n",
    "plt.grid(True)\n",
    "plt.show()\n"
   ]
  },
  {
   "cell_type": "markdown",
   "id": "23749bfb",
   "metadata": {},
   "source": [
    "When testing with different sample sizes, we observed that the MI values decreased as the sample size increased.\n",
    "\n",
    "For small samples (e.g., 100–200), the MI was relatively high (~0.4–0.7) due to noise and estimation bias. As the sample size grew (500, 1000, 2000), the MI estimates became much smaller (~0.03–0.15), approaching the expected value of zero for independent data.\n",
    "\n",
    "The jackknife MI estimates closely matched the original MI estimates in all cases but provided a variance estimate, showing uncertainty at smaller sample sizes and stabilizing as more data was used.\n",
    "\n",
    "Mutual information estimates for independent variables are biased upward when data is limited, but the bias reduces with larger datasets. The jackknife method helps quantify the variability in the MI estimate but does not fundamentally correct the bias alone."
   ]
  },
  {
   "cell_type": "markdown",
   "id": "fcfcfc46",
   "metadata": {},
   "source": [
    "In the case of independent data, MI should ideally be close to zero, but because there is some inherent randomness in the data and the estimation process, we see a non-zero value (0.4210). This could be due to the finite sample size and the way mutual information is computed."
   ]
  },
  {
   "cell_type": "code",
   "execution_count": null,
   "id": "69470a75",
   "metadata": {},
   "outputs": [
    {
     "name": "stdout",
     "output_type": "stream",
     "text": [
      "Weak Dependency MI: 1.1057\n",
      "Jackknife MI Estimate: 1.1058, Variance: 0.001568\n"
     ]
    }
   ],
   "source": [
    "# weak dependency\n",
    "def generate_weak_dependency_data(n):\n",
    "    X1 = np.random.randint(0, 5, size=n)\n",
    "    X2 = X1 + np.random.randint(0, 1, size=n)  # Weak dependency between X1 and X2\n",
    "    Y1 = X1 + np.random.randint(0, 3, size=n)  # Y depends only weakly on X1\n",
    "    return np.column_stack([X1, X2]), Y1\n",
    "\n",
    "X_weak, Y_weak = generate_weak_dependency_data(200)\n",
    "\n",
    "mi_val_weak = mutual_information_multivariate(X_weak, Y_weak)\n",
    "mi_jack_weak, var_jack_weak = jackknife_mi(X_weak, Y_weak, mutual_information_multivariate)\n",
    "\n",
    "print(f\"Weak Dependency MI: {mi_val_weak:.4f}\")\n",
    "print(f\"Jackknife MI Estimate: {mi_jack_weak:.4f}, Variance: {var_jack_weak:.6f}\")\n"
   ]
  },
  {
   "cell_type": "markdown",
   "id": "fd9d2dac",
   "metadata": {},
   "source": [
    "For weak dependency, the MI is higher than for independent data, as expected. The Jackknife estimate is almost identical to the MI, and the variance is low."
   ]
  },
  {
   "cell_type": "code",
   "execution_count": null,
   "id": "accff269",
   "metadata": {},
   "outputs": [
    {
     "name": "stdout",
     "output_type": "stream",
     "text": [
      "Non-linear MI: 4.5754\n",
      "Jackknife MI Estimate: 4.5750, Variance: 0.001061\n"
     ]
    }
   ],
   "source": [
    "# non-linear dependencies\n",
    "def generate_nonlinear_data(n):\n",
    "    X1 = np.random.randint(0, 5, size=n)\n",
    "    X2 = np.random.randint(0, 5, size=n)\n",
    "    Y1 = np.sin(X1) + np.log(X2 + 1) + np.random.randint(0, 3, size=n)  # Non-linear relation\n",
    "    return np.column_stack([X1, X2]), Y1\n",
    "\n",
    "X_nonlinear, Y_nonlinear = generate_nonlinear_data(200)\n",
    "\n",
    "mi_val_nonlinear = mutual_information_multivariate(X_nonlinear, Y_nonlinear)\n",
    "mi_jack_nonlinear, var_jack_nonlinear = jackknife_mi(X_nonlinear, Y_nonlinear, mutual_information_multivariate)\n",
    "\n",
    "print(f\"Non-linear MI: {mi_val_nonlinear:.4f}\")\n",
    "print(f\"Jackknife MI Estimate: {mi_jack_nonlinear:.4f}, Variance: {var_jack_nonlinear:.6f}\")\n"
   ]
  },
  {
   "cell_type": "markdown",
   "id": "da3531b2",
   "metadata": {},
   "source": [
    "In the non-linear case, MI is higher, reflecting the more complex relationships between the variables."
   ]
  },
  {
   "cell_type": "code",
   "execution_count": null,
   "id": "309e187e",
   "metadata": {},
   "outputs": [
    {
     "name": "stdout",
     "output_type": "stream",
     "text": [
      "Noisy Linear MI: 1.9840\n",
      "Jackknife MI Estimate: 1.9850, Variance: 0.004710\n"
     ]
    }
   ],
   "source": [
    "# noisy linear dependencies\n",
    "def generate_noisy_linear_data(n):\n",
    "    X1 = np.random.randint(0, 5, size=n)\n",
    "    X2 = 2 * X1 + np.random.randint(0, 3, size=n)  # X2 is noisy version of X1\n",
    "    Y1 = X1 + X2 + np.random.randint(0, 5, size=n)  # Y depends linearly on X1 and X2, but with noise\n",
    "    return np.column_stack([X1, X2]), Y1\n",
    "\n",
    "X_noisy, Y_noisy = generate_noisy_linear_data(200)\n",
    "\n",
    "mi_val_noisy = mutual_information_multivariate(X_noisy, Y_noisy)\n",
    "mi_jack_noisy, var_jack_noisy = jackknife_mi(X_noisy, Y_noisy, mutual_information_multivariate)\n",
    "\n",
    "print(f\"Noisy Linear MI: {mi_val_noisy:.4f}\")\n",
    "print(f\"Jackknife MI Estimate: {mi_jack_noisy:.4f}, Variance: {var_jack_noisy:.6f}\")\n"
   ]
  },
  {
   "cell_type": "markdown",
   "id": "372eb0e3",
   "metadata": {},
   "source": [
    "For noisy linear dependencies, the MI is slightly lower than for non-linear cases due to the added noise."
   ]
  }
 ],
 "metadata": {
  "kernelspec": {
   "display_name": "PPB",
   "language": "python",
   "name": "python3"
  },
  "language_info": {
   "codemirror_mode": {
    "name": "ipython",
    "version": 3
   },
   "file_extension": ".py",
   "mimetype": "text/x-python",
   "name": "python",
   "nbconvert_exporter": "python",
   "pygments_lexer": "ipython3",
   "version": "3.9.21"
  }
 },
 "nbformat": 4,
 "nbformat_minor": 5
}
